{
  "nbformat": 4,
  "nbformat_minor": 0,
  "metadata": {
    "colab": {
      "name": "Python regex_explorative_analysis.ipynb",
      "provenance": [],
      "authorship_tag": "ABX9TyN/fxIZeWzIVPeW6TuSWfMv",
      "include_colab_link": true
    },
    "kernelspec": {
      "name": "python3",
      "display_name": "Python 3"
    },
    "language_info": {
      "name": "python"
    }
  },
  "cells": [
    {
      "cell_type": "markdown",
      "metadata": {
        "id": "view-in-github",
        "colab_type": "text"
      },
      "source": [
        "<a href=\"https://colab.research.google.com/github/Dasika-Vaishnavi/astropy.github.com/blob/main/Python_regex_explorative_analysis.ipynb\" target=\"_parent\"><img src=\"https://colab.research.google.com/assets/colab-badge.svg\" alt=\"Open In Colab\"/></a>"
      ]
    },
    {
      "cell_type": "markdown",
      "source": [
        "Python has a built-in package called re, which can be used to work with Regular Expressions.\n",
        "\n",
        "Import the re module:"
      ],
      "metadata": {
        "id": "1yidPSLvbUKy"
      }
    },
    {
      "cell_type": "code",
      "execution_count": 8,
      "metadata": {
        "id": "9Yxr4NyLbJGk"
      },
      "outputs": [],
      "source": [
        "import re"
      ]
    },
    {
      "cell_type": "markdown",
      "source": [
        "When you have imported the re module, you can start using regular expressions:"
      ],
      "metadata": {
        "id": "egyDNpqebYev"
      }
    },
    {
      "cell_type": "code",
      "source": [
        "import re\n",
        "\n",
        "txt = \"The rain in Spain\"\n",
        "x = re.search(\"^The.*Spain$\", txt)"
      ],
      "metadata": {
        "id": "vATXWONUbOwG"
      },
      "execution_count": 9,
      "outputs": []
    },
    {
      "cell_type": "markdown",
      "source": [
        "# RegEx Functions"
      ],
      "metadata": {
        "id": "ttSE1xMjbYZi"
      }
    },
    {
      "cell_type": "markdown",
      "source": [
        "The findall() Function"
      ],
      "metadata": {
        "id": "C3btm7uWbivD"
      }
    },
    {
      "cell_type": "code",
      "source": [
        "txt = \"The rain in Spain\"\n",
        "x = re.findall(\"ai\", txt)\n",
        "print(x)"
      ],
      "metadata": {
        "colab": {
          "base_uri": "https://localhost:8080/"
        },
        "id": "Usvkf_4VbfnP",
        "outputId": "e1b06835-bd06-4434-a7dc-70c4bd28c6f7"
      },
      "execution_count": 10,
      "outputs": [
        {
          "output_type": "stream",
          "name": "stdout",
          "text": [
            "['ai', 'ai']\n"
          ]
        }
      ]
    },
    {
      "cell_type": "markdown",
      "source": [
        "The search() Function"
      ],
      "metadata": {
        "id": "_H9Bt9LyboDW"
      }
    },
    {
      "cell_type": "code",
      "source": [
        "txt = \"The rain in Spain\"\n",
        "x = re.search(\"\\s\", txt)\n",
        "\n",
        "print(\"The first white-space character is located in position:\", x.start())\n"
      ],
      "metadata": {
        "colab": {
          "base_uri": "https://localhost:8080/"
        },
        "id": "zlcmcBiKblFu",
        "outputId": "dde4b186-51e6-4280-f84f-1f2a0c6b86bf"
      },
      "execution_count": 11,
      "outputs": [
        {
          "output_type": "stream",
          "name": "stdout",
          "text": [
            "The first white-space character is located in position: 3\n"
          ]
        }
      ]
    },
    {
      "cell_type": "markdown",
      "source": [
        "The split() Function"
      ],
      "metadata": {
        "id": "_KRRuw7GbsAn"
      }
    },
    {
      "cell_type": "code",
      "source": [
        "#Split at each white-space character:\n",
        "txt = \"The rain in Spain\"\n",
        "x = re.split(\"\\s\", txt)\n",
        "print(x)"
      ],
      "metadata": {
        "colab": {
          "base_uri": "https://localhost:8080/"
        },
        "id": "ACFJteZ4brJF",
        "outputId": "42bb7720-021e-4fa2-e31f-c83c7d6477d3"
      },
      "execution_count": 12,
      "outputs": [
        {
          "output_type": "stream",
          "name": "stdout",
          "text": [
            "['The', 'rain', 'in', 'Spain']\n"
          ]
        }
      ]
    },
    {
      "cell_type": "code",
      "source": [
        "#Split the string only at the first occurrence:\n",
        "txt = \"The rain in Spain\"\n",
        "x = re.split(\"\\s\", txt, 1)\n",
        "print(x)"
      ],
      "metadata": {
        "colab": {
          "base_uri": "https://localhost:8080/"
        },
        "id": "65gpYr3Qbv-l",
        "outputId": "2bd8b371-4fb6-4722-a672-f1ea1d95acce"
      },
      "execution_count": 13,
      "outputs": [
        {
          "output_type": "stream",
          "name": "stdout",
          "text": [
            "['The', 'rain in Spain']\n"
          ]
        }
      ]
    },
    {
      "cell_type": "markdown",
      "source": [
        "The sub() Function"
      ],
      "metadata": {
        "id": "G1uLIdlab74N"
      }
    },
    {
      "cell_type": "code",
      "source": [
        "#Replace every white-space character with the number 9:\n",
        "\n",
        "txt = \"The rain in Spain\"\n",
        "x = re.sub(\"\\s\", \"9\", txt)\n",
        "print(x)"
      ],
      "metadata": {
        "colab": {
          "base_uri": "https://localhost:8080/"
        },
        "id": "S48YAaIwb5QF",
        "outputId": "76b4c077-ec69-4607-f977-c55bb0bdc7bc"
      },
      "execution_count": 14,
      "outputs": [
        {
          "output_type": "stream",
          "name": "stdout",
          "text": [
            "The9rain9in9Spain\n"
          ]
        }
      ]
    },
    {
      "cell_type": "code",
      "source": [
        "#Replace the first 2 occurrences:\n",
        "txt = \"The rain in Spain\"\n",
        "x = re.sub(\"\\s\", \"9\", txt, 2)\n",
        "print(x)"
      ],
      "metadata": {
        "colab": {
          "base_uri": "https://localhost:8080/"
        },
        "id": "ysbmig4dcAc4",
        "outputId": "cb47b52e-054c-4adc-d69b-9fe5ce34eeff"
      },
      "execution_count": 15,
      "outputs": [
        {
          "output_type": "stream",
          "name": "stdout",
          "text": [
            "The9rain9in Spain\n"
          ]
        }
      ]
    },
    {
      "cell_type": "markdown",
      "source": [
        "# Match Object\n",
        "A Match Object is an object containing information about the search and the result."
      ],
      "metadata": {
        "id": "ZSKtGoWxcPUM"
      }
    },
    {
      "cell_type": "code",
      "source": [
        "txt = \"The rain in Spain\"\n",
        "x = re.search(\"ai\", txt)\n",
        "print(x) #this will print an object"
      ],
      "metadata": {
        "colab": {
          "base_uri": "https://localhost:8080/"
        },
        "id": "Eyk-K0T4cM1o",
        "outputId": "c336fa0a-1cfb-4efa-c47d-9da61827a866"
      },
      "execution_count": 17,
      "outputs": [
        {
          "output_type": "stream",
          "name": "stdout",
          "text": [
            "<re.Match object; span=(5, 7), match='ai'>\n"
          ]
        }
      ]
    },
    {
      "cell_type": "markdown",
      "source": [
        "The Match object has properties and methods used to retrieve information about the search, and the result.If there is no match, the value None will be returned, instead of the Match Object.\n",
        "\n",
        "###span() returns a tuple containing the start-, and end positions of the match.\n",
        "###string returns the string passed into the function\n",
        "###group() returns the part of the string where there was a match"
      ],
      "metadata": {
        "id": "Fbs4BVt8ccHc"
      }
    },
    {
      "cell_type": "code",
      "source": [
        "txt = \"The rain in Spain\"\n",
        "x = re.search(r\"\\bS\\w+\", txt)\n",
        "print(x.span())\n",
        "print(x.string)\n",
        "print(x.group())"
      ],
      "metadata": {
        "colab": {
          "base_uri": "https://localhost:8080/"
        },
        "id": "di40Va3CcVpl",
        "outputId": "0c9c6200-6e6b-4d4d-f07b-86a06dfbcc01"
      },
      "execution_count": 18,
      "outputs": [
        {
          "output_type": "stream",
          "name": "stdout",
          "text": [
            "(12, 17)\n",
            "The rain in Spain\n",
            "Spain\n"
          ]
        }
      ]
    }
  ]
}